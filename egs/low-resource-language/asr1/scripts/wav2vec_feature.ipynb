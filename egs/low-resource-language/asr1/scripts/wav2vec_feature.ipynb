{
 "cells": [
  {
   "cell_type": "code",
   "execution_count": 1,
   "id": "attempted-deputy",
   "metadata": {},
   "outputs": [],
   "source": [
    "import os\n",
    "import re\n",
    "import json\n",
    "import time\n",
    "import librosa\n",
    "import subprocess\n",
    "import shlex\n",
    "import torch\n",
    "import fairseq\n",
    "import numpy as np\n",
    "from tqdm import tqdm\n",
    "if 'cd' not in globals():\n",
    "    os.chdir('..')\n",
    "    cd = True\n"
   ]
  },
  {
   "cell_type": "code",
   "execution_count": 2,
   "id": "growing-exhibit",
   "metadata": {},
   "outputs": [],
   "source": [
    "def get_lang(d):\n",
    "    s = d.split('_')[0]\n",
    "    s = re.sub(r'\\d+$', '', s.split('-')[0]) if re.search('[a-zA-Z]+', s) else s\n",
    "    return s"
   ]
  },
  {
   "cell_type": "code",
   "execution_count": 3,
   "id": "applied-satellite",
   "metadata": {},
   "outputs": [],
   "source": [
    "seen_utt = set()"
   ]
  },
  {
   "cell_type": "code",
   "execution_count": 8,
   "id": "discrete-paradise",
   "metadata": {},
   "outputs": [],
   "source": [
    "# change split to 'train' / 'dev'\n",
    "\n",
    "split = 'dev'\n",
    "lang2data = {\n",
    "    'BG': f'data/GlobalPhone/gp_Bulgarian_{split}/',\n",
    "    'CZ': f'data/GlobalPhone/gp_Czech_{split}/',\n",
    "    'PL': f'data/GlobalPhone/gp_Polish_{split}/',\n",
    "}\n",
    "metadata_path = f'dump/{split}/deltafalse/data.json'\n",
    "with open(metadata_path, 'r') as f:\n",
    "    data = json.load(f)\n",
    "    data = data['utts']\n",
    "all_langs = set(get_lang(k) for k in data.keys())"
   ]
  },
  {
   "cell_type": "code",
   "execution_count": 9,
   "id": "accompanied-taxation",
   "metadata": {},
   "outputs": [],
   "source": [
    "tempfile= 'tmp.wav'\n",
    "sr = 16000\n",
    "feat_folder = 'w2vfeat_npy' \n",
    "cp_path = '/home/hertin/Workplace/SST/low-resource/fairseq/examples/wav2vec/scripts/xlsr_53_56k.pt'\n",
    "model, cfg, task = fairseq.checkpoint_utils.load_model_ensemble_and_task([cp_path])\n",
    "model = model[0]\n",
    "model.eval()\n",
    "device = torch.device('cuda:1')\n",
    "model = model.to(device)"
   ]
  },
  {
   "cell_type": "code",
   "execution_count": 10,
   "id": "fossil-substitute",
   "metadata": {},
   "outputs": [],
   "source": [
    "def line_count(filename):\n",
    "    return int(subprocess.check_output(['wc', '-l', filename]).split()[0])"
   ]
  },
  {
   "cell_type": "code",
   "execution_count": 11,
   "id": "danish-cursor",
   "metadata": {},
   "outputs": [
    {
     "name": "stderr",
     "output_type": "stream",
     "text": [
      "100%|██████████| 724/724 [01:35<00:00,  7.55it/s]\n",
      "100%|██████████| 1260/1260 [02:38<00:00,  7.93it/s]\n",
      "100%|██████████| 830/830 [01:44<00:00,  7.91it/s]\n"
     ]
    }
   ],
   "source": [
    "\n",
    "for lang in all_langs:\n",
    "    data_dir = lang2data[lang]\n",
    "    nline = line_count(f'{data_dir}/wav.scp')\n",
    "    with open(f'{data_dir}/wav.scp', 'r') as f:\n",
    "        for l in tqdm(f, total=nline):\n",
    "            # BG051_UTT001 shorten -x /home/hertin/Workplace/SST/dataset/babel/S0319/Bulgarian/adc/051/BG051_1.adc.shn - | sox -t raw -r 16000 -b 16 -e signed-integer - -t wav - |\n",
    "            uttid, cmd = l.strip().strip('- |').split(' ', maxsplit=1)\n",
    "            cmd = f'{cmd} {tempfile}'\n",
    "            \n",
    "            process = subprocess.Popen(\n",
    "                cmd,\n",
    "                shell=True,\n",
    "                stdout=subprocess.PIPE, \n",
    "                stderr=subprocess.PIPE\n",
    "            )\n",
    "            stdout, stderr = process.communicate()\n",
    "            stdout, stderr\n",
    "            audio, _ = librosa.load(tempfile, sr=sr)\n",
    "    \n",
    "            wav_input = torch.from_numpy(audio).to(device).unsqueeze(0)\n",
    "\n",
    "            z = model.feature_extractor(wav_input)\n",
    "            feat = z.squeeze(0).detach().cpu().numpy().T\n",
    "            np.save(f'{feat_folder}/{uttid}.npy', feat)\n",
    "\n",
    "            assert uttid not in seen_utt\n",
    "            seen_utt.add(uttid)"
   ]
  },
  {
   "cell_type": "code",
   "execution_count": null,
   "id": "tamil-johns",
   "metadata": {},
   "outputs": [],
   "source": []
  },
  {
   "cell_type": "code",
   "execution_count": null,
   "id": "canadian-century",
   "metadata": {},
   "outputs": [],
   "source": []
  },
  {
   "cell_type": "code",
   "execution_count": null,
   "id": "revised-feelings",
   "metadata": {},
   "outputs": [],
   "source": []
  },
  {
   "cell_type": "code",
   "execution_count": null,
   "id": "substantial-donor",
   "metadata": {},
   "outputs": [],
   "source": []
  },
  {
   "cell_type": "code",
   "execution_count": null,
   "id": "intense-conservative",
   "metadata": {},
   "outputs": [],
   "source": []
  },
  {
   "cell_type": "code",
   "execution_count": null,
   "id": "potential-typing",
   "metadata": {},
   "outputs": [],
   "source": []
  },
  {
   "cell_type": "code",
   "execution_count": 49,
   "id": "specific-gathering",
   "metadata": {},
   "outputs": [
    {
     "data": {
      "text/plain": [
       "'w2vfeat_npy/CZ009_UTT140.npy'"
      ]
     },
     "execution_count": 49,
     "metadata": {},
     "output_type": "execute_result"
    }
   ],
   "source": [
    "f'{feat_folder}/{uttid}.npy'"
   ]
  },
  {
   "cell_type": "code",
   "execution_count": 52,
   "id": "likely-aviation",
   "metadata": {},
   "outputs": [
    {
     "data": {
      "text/plain": [
       "(512, 649)"
      ]
     },
     "execution_count": 52,
     "metadata": {},
     "output_type": "execute_result"
    }
   ],
   "source": [
    "np.load(f'{feat_folder}/{uttid}.npy', mmap_mode='r').shape[1:]"
   ]
  },
  {
   "cell_type": "code",
   "execution_count": 58,
   "id": "polar-edinburgh",
   "metadata": {},
   "outputs": [
    {
     "data": {
      "text/plain": [
       "torch.Size([649, 512])"
      ]
     },
     "execution_count": 58,
     "metadata": {},
     "output_type": "execute_result"
    }
   ],
   "source": [
    "z.squeeze(0).T.shape"
   ]
  },
  {
   "cell_type": "code",
   "execution_count": 56,
   "id": "consistent-original",
   "metadata": {},
   "outputs": [
    {
     "data": {
      "text/plain": [
       "torch.Size([512, 649])"
      ]
     },
     "execution_count": 56,
     "metadata": {},
     "output_type": "execute_result"
    }
   ],
   "source": [
    "z.squeeze(0).shape\n"
   ]
  },
  {
   "cell_type": "code",
   "execution_count": 23,
   "id": "right-christianity",
   "metadata": {},
   "outputs": [
    {
     "name": "stdout",
     "output_type": "stream",
     "text": [
      "cost 0.011581659317016602 s\n"
     ]
    }
   ],
   "source": [
    "cp_path = '/home/hertin/Workplace/SST/low-resource/fairseq/examples/wav2vec/scripts/xlsr_53_56k.pt'\n",
    "model, cfg, task = fairseq.checkpoint_utils.load_model_ensemble_and_task([cp_path])\n",
    "model = model[0]\n",
    "model.eval()\n",
    "device = torch.device('cuda:1')\n",
    "model = model.to(device)\n",
    "# wav_input_16khz = torch.randn(2,10000)\n",
    "start = time.time()\n",
    "wav_input = torch.from_numpy(audio).to(device).unsqueeze(0)\n",
    "\n",
    "z = model.feature_extractor(wav_input)\n",
    "feat = z.detach().cpu().numpy()\n",
    "end = time.time()\n",
    "print(f'cost {end-start} s')\n",
    "# c = model.feature_aggregator(z)"
   ]
  },
  {
   "cell_type": "code",
   "execution_count": 24,
   "id": "piano-efficiency",
   "metadata": {},
   "outputs": [
    {
     "name": "stdout",
     "output_type": "stream",
     "text": [
      "cost 0.9544930458068848 s\n"
     ]
    }
   ],
   "source": [
    "cp_path = '/home/hertin/Workplace/SST/low-resource/fairseq/examples/wav2vec/scripts/xlsr_53_56k.pt'\n",
    "model, cfg, task = fairseq.checkpoint_utils.load_model_ensemble_and_task([cp_path])\n",
    "model = model[0]\n",
    "model.eval()\n",
    "\n",
    "# wav_input_16khz = torch.randn(2,10000)\n",
    "start = time.time()\n",
    "wav_input = torch.from_numpy(audio).unsqueeze(0)\n",
    "\n",
    "z = model.feature_extractor(wav_input)\n",
    "end = time.time()\n",
    "print(f'cost {end-start} s')\n",
    "# c = model.feature_aggregator(z)"
   ]
  },
  {
   "cell_type": "code",
   "execution_count": 48,
   "id": "tight-little",
   "metadata": {},
   "outputs": [
    {
     "data": {
      "text/plain": [
       "torch.Size([1, 512, 649])"
      ]
     },
     "execution_count": 48,
     "metadata": {},
     "output_type": "execute_result"
    }
   ],
   "source": [
    "z.size()"
   ]
  },
  {
   "cell_type": "code",
   "execution_count": null,
   "id": "current-mexico",
   "metadata": {},
   "outputs": [],
   "source": []
  },
  {
   "cell_type": "code",
   "execution_count": null,
   "id": "norwegian-magazine",
   "metadata": {},
   "outputs": [],
   "source": []
  },
  {
   "cell_type": "code",
   "execution_count": null,
   "id": "express-kinase",
   "metadata": {},
   "outputs": [],
   "source": []
  },
  {
   "cell_type": "code",
   "execution_count": null,
   "id": "potential-pantyhose",
   "metadata": {},
   "outputs": [],
   "source": []
  },
  {
   "cell_type": "code",
   "execution_count": null,
   "id": "incomplete-robin",
   "metadata": {},
   "outputs": [],
   "source": []
  }
 ],
 "metadata": {
  "kernelspec": {
   "display_name": "Python 3",
   "language": "python",
   "name": "python3"
  },
  "language_info": {
   "codemirror_mode": {
    "name": "ipython",
    "version": 3
   },
   "file_extension": ".py",
   "mimetype": "text/x-python",
   "name": "python",
   "nbconvert_exporter": "python",
   "pygments_lexer": "ipython3",
   "version": "3.7.9"
  }
 },
 "nbformat": 4,
 "nbformat_minor": 5
}
