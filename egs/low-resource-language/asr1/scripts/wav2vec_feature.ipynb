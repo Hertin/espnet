{
 "cells": [
  {
   "cell_type": "code",
   "execution_count": 2,
   "metadata": {},
   "outputs": [],
   "source": [
    "import os\n",
    "import re\n",
    "import json\n",
    "import time\n",
    "import librosa\n",
    "import subprocess\n",
    "import shlex\n",
    "import torch\n",
    "import fairseq\n",
    "import numpy as np\n",
    "from tqdm import tqdm\n"
   ]
  },
  {
   "cell_type": "code",
   "execution_count": 2,
   "metadata": {},
   "outputs": [],
   "source": [
    "def get_lang(d):\n",
    "    s = d.split('_')[0]\n",
    "    s = re.sub(r'\\d+$', '', s.split('-')[0]) if re.search('[a-zA-Z]+', s) else s\n",
    "    return s"
   ]
  },
  {
   "cell_type": "code",
   "execution_count": 3,
   "metadata": {},
   "outputs": [],
   "source": [
    "seen_utt = set()"
   ]
  },
  {
   "cell_type": "code",
   "execution_count": 8,
   "metadata": {},
   "outputs": [],
   "source": [
    "# change split to 'train' / 'dev'\n",
    "\n",
    "split = 'dev'\n",
    "lang2data = {\n",
    "    'BG': f'data/GlobalPhone/gp_Bulgarian_{split}/',\n",
    "    'CZ': f'data/GlobalPhone/gp_Czech_{split}/',\n",
    "    'PL': f'data/GlobalPhone/gp_Polish_{split}/',\n",
    "}\n",
    "metadata_path = f'dump/{split}/deltafalse/data.json'\n",
    "with open(metadata_path, 'r') as f:\n",
    "    data = json.load(f)\n",
    "    data = data['utts']\n",
    "all_langs = set(get_lang(k) for k in data.keys())"
   ]
  },
  {
   "cell_type": "code",
   "execution_count": 6,
   "metadata": {},
   "outputs": [
    {
     "name": "stdout",
     "output_type": "stream",
     "text": [
      "mask_emb\n",
      "feature_extractor.conv_layers.0.0.weight\n",
      "feature_extractor.conv_layers.0.2.weight\n",
      "feature_extractor.conv_layers.0.2.bias\n",
      "feature_extractor.conv_layers.1.0.weight\n",
      "feature_extractor.conv_layers.2.0.weight\n",
      "feature_extractor.conv_layers.3.0.weight\n",
      "feature_extractor.conv_layers.4.0.weight\n",
      "feature_extractor.conv_layers.5.0.weight\n",
      "feature_extractor.conv_layers.6.0.weight\n",
      "post_extract_proj.weight\n",
      "post_extract_proj.bias\n",
      "quantizer.vars\n",
      "quantizer.weight_proj.weight\n",
      "quantizer.weight_proj.bias\n",
      "project_q.weight\n",
      "project_q.bias\n",
      "encoder.pos_conv.0.bias\n",
      "encoder.pos_conv.0.weight_g\n",
      "encoder.pos_conv.0.weight_v\n",
      "encoder.layers.0.self_attn.k_proj.weight\n",
      "encoder.layers.0.self_attn.k_proj.bias\n",
      "encoder.layers.0.self_attn.v_proj.weight\n",
      "encoder.layers.0.self_attn.v_proj.bias\n",
      "encoder.layers.0.self_attn.q_proj.weight\n",
      "encoder.layers.0.self_attn.q_proj.bias\n",
      "encoder.layers.0.self_attn.out_proj.weight\n",
      "encoder.layers.0.self_attn.out_proj.bias\n",
      "encoder.layers.0.self_attn_layer_norm.weight\n",
      "encoder.layers.0.self_attn_layer_norm.bias\n",
      "encoder.layers.0.fc1.weight\n",
      "encoder.layers.0.fc1.bias\n",
      "encoder.layers.0.fc2.weight\n",
      "encoder.layers.0.fc2.bias\n",
      "encoder.layers.0.final_layer_norm.weight\n",
      "encoder.layers.0.final_layer_norm.bias\n",
      "encoder.layers.1.self_attn.k_proj.weight\n",
      "encoder.layers.1.self_attn.k_proj.bias\n",
      "encoder.layers.1.self_attn.v_proj.weight\n",
      "encoder.layers.1.self_attn.v_proj.bias\n",
      "encoder.layers.1.self_attn.q_proj.weight\n",
      "encoder.layers.1.self_attn.q_proj.bias\n",
      "encoder.layers.1.self_attn.out_proj.weight\n",
      "encoder.layers.1.self_attn.out_proj.bias\n",
      "encoder.layers.1.self_attn_layer_norm.weight\n",
      "encoder.layers.1.self_attn_layer_norm.bias\n",
      "encoder.layers.1.fc1.weight\n",
      "encoder.layers.1.fc1.bias\n",
      "encoder.layers.1.fc2.weight\n",
      "encoder.layers.1.fc2.bias\n",
      "encoder.layers.1.final_layer_norm.weight\n",
      "encoder.layers.1.final_layer_norm.bias\n",
      "encoder.layers.2.self_attn.k_proj.weight\n",
      "encoder.layers.2.self_attn.k_proj.bias\n",
      "encoder.layers.2.self_attn.v_proj.weight\n",
      "encoder.layers.2.self_attn.v_proj.bias\n",
      "encoder.layers.2.self_attn.q_proj.weight\n",
      "encoder.layers.2.self_attn.q_proj.bias\n",
      "encoder.layers.2.self_attn.out_proj.weight\n",
      "encoder.layers.2.self_attn.out_proj.bias\n",
      "encoder.layers.2.self_attn_layer_norm.weight\n",
      "encoder.layers.2.self_attn_layer_norm.bias\n",
      "encoder.layers.2.fc1.weight\n",
      "encoder.layers.2.fc1.bias\n",
      "encoder.layers.2.fc2.weight\n",
      "encoder.layers.2.fc2.bias\n",
      "encoder.layers.2.final_layer_norm.weight\n",
      "encoder.layers.2.final_layer_norm.bias\n",
      "encoder.layers.3.self_attn.k_proj.weight\n",
      "encoder.layers.3.self_attn.k_proj.bias\n",
      "encoder.layers.3.self_attn.v_proj.weight\n",
      "encoder.layers.3.self_attn.v_proj.bias\n",
      "encoder.layers.3.self_attn.q_proj.weight\n",
      "encoder.layers.3.self_attn.q_proj.bias\n",
      "encoder.layers.3.self_attn.out_proj.weight\n",
      "encoder.layers.3.self_attn.out_proj.bias\n",
      "encoder.layers.3.self_attn_layer_norm.weight\n",
      "encoder.layers.3.self_attn_layer_norm.bias\n",
      "encoder.layers.3.fc1.weight\n",
      "encoder.layers.3.fc1.bias\n",
      "encoder.layers.3.fc2.weight\n",
      "encoder.layers.3.fc2.bias\n",
      "encoder.layers.3.final_layer_norm.weight\n",
      "encoder.layers.3.final_layer_norm.bias\n",
      "encoder.layers.4.self_attn.k_proj.weight\n",
      "encoder.layers.4.self_attn.k_proj.bias\n",
      "encoder.layers.4.self_attn.v_proj.weight\n",
      "encoder.layers.4.self_attn.v_proj.bias\n",
      "encoder.layers.4.self_attn.q_proj.weight\n",
      "encoder.layers.4.self_attn.q_proj.bias\n",
      "encoder.layers.4.self_attn.out_proj.weight\n",
      "encoder.layers.4.self_attn.out_proj.bias\n",
      "encoder.layers.4.self_attn_layer_norm.weight\n",
      "encoder.layers.4.self_attn_layer_norm.bias\n",
      "encoder.layers.4.fc1.weight\n",
      "encoder.layers.4.fc1.bias\n",
      "encoder.layers.4.fc2.weight\n",
      "encoder.layers.4.fc2.bias\n",
      "encoder.layers.4.final_layer_norm.weight\n",
      "encoder.layers.4.final_layer_norm.bias\n",
      "encoder.layers.5.self_attn.k_proj.weight\n",
      "encoder.layers.5.self_attn.k_proj.bias\n",
      "encoder.layers.5.self_attn.v_proj.weight\n",
      "encoder.layers.5.self_attn.v_proj.bias\n",
      "encoder.layers.5.self_attn.q_proj.weight\n",
      "encoder.layers.5.self_attn.q_proj.bias\n",
      "encoder.layers.5.self_attn.out_proj.weight\n",
      "encoder.layers.5.self_attn.out_proj.bias\n",
      "encoder.layers.5.self_attn_layer_norm.weight\n",
      "encoder.layers.5.self_attn_layer_norm.bias\n",
      "encoder.layers.5.fc1.weight\n",
      "encoder.layers.5.fc1.bias\n",
      "encoder.layers.5.fc2.weight\n",
      "encoder.layers.5.fc2.bias\n",
      "encoder.layers.5.final_layer_norm.weight\n",
      "encoder.layers.5.final_layer_norm.bias\n",
      "encoder.layers.6.self_attn.k_proj.weight\n",
      "encoder.layers.6.self_attn.k_proj.bias\n",
      "encoder.layers.6.self_attn.v_proj.weight\n",
      "encoder.layers.6.self_attn.v_proj.bias\n",
      "encoder.layers.6.self_attn.q_proj.weight\n",
      "encoder.layers.6.self_attn.q_proj.bias\n",
      "encoder.layers.6.self_attn.out_proj.weight\n",
      "encoder.layers.6.self_attn.out_proj.bias\n",
      "encoder.layers.6.self_attn_layer_norm.weight\n",
      "encoder.layers.6.self_attn_layer_norm.bias\n",
      "encoder.layers.6.fc1.weight\n",
      "encoder.layers.6.fc1.bias\n",
      "encoder.layers.6.fc2.weight\n",
      "encoder.layers.6.fc2.bias\n",
      "encoder.layers.6.final_layer_norm.weight\n",
      "encoder.layers.6.final_layer_norm.bias\n",
      "encoder.layers.7.self_attn.k_proj.weight\n",
      "encoder.layers.7.self_attn.k_proj.bias\n",
      "encoder.layers.7.self_attn.v_proj.weight\n",
      "encoder.layers.7.self_attn.v_proj.bias\n",
      "encoder.layers.7.self_attn.q_proj.weight\n",
      "encoder.layers.7.self_attn.q_proj.bias\n",
      "encoder.layers.7.self_attn.out_proj.weight\n",
      "encoder.layers.7.self_attn.out_proj.bias\n",
      "encoder.layers.7.self_attn_layer_norm.weight\n",
      "encoder.layers.7.self_attn_layer_norm.bias\n",
      "encoder.layers.7.fc1.weight\n",
      "encoder.layers.7.fc1.bias\n",
      "encoder.layers.7.fc2.weight\n",
      "encoder.layers.7.fc2.bias\n",
      "encoder.layers.7.final_layer_norm.weight\n",
      "encoder.layers.7.final_layer_norm.bias\n",
      "encoder.layers.8.self_attn.k_proj.weight\n",
      "encoder.layers.8.self_attn.k_proj.bias\n",
      "encoder.layers.8.self_attn.v_proj.weight\n",
      "encoder.layers.8.self_attn.v_proj.bias\n",
      "encoder.layers.8.self_attn.q_proj.weight\n",
      "encoder.layers.8.self_attn.q_proj.bias\n",
      "encoder.layers.8.self_attn.out_proj.weight\n",
      "encoder.layers.8.self_attn.out_proj.bias\n",
      "encoder.layers.8.self_attn_layer_norm.weight\n",
      "encoder.layers.8.self_attn_layer_norm.bias\n",
      "encoder.layers.8.fc1.weight\n",
      "encoder.layers.8.fc1.bias\n",
      "encoder.layers.8.fc2.weight\n",
      "encoder.layers.8.fc2.bias\n",
      "encoder.layers.8.final_layer_norm.weight\n",
      "encoder.layers.8.final_layer_norm.bias\n",
      "encoder.layers.9.self_attn.k_proj.weight\n",
      "encoder.layers.9.self_attn.k_proj.bias\n",
      "encoder.layers.9.self_attn.v_proj.weight\n",
      "encoder.layers.9.self_attn.v_proj.bias\n",
      "encoder.layers.9.self_attn.q_proj.weight\n",
      "encoder.layers.9.self_attn.q_proj.bias\n",
      "encoder.layers.9.self_attn.out_proj.weight\n",
      "encoder.layers.9.self_attn.out_proj.bias\n",
      "encoder.layers.9.self_attn_layer_norm.weight\n",
      "encoder.layers.9.self_attn_layer_norm.bias\n",
      "encoder.layers.9.fc1.weight\n",
      "encoder.layers.9.fc1.bias\n",
      "encoder.layers.9.fc2.weight\n",
      "encoder.layers.9.fc2.bias\n",
      "encoder.layers.9.final_layer_norm.weight\n",
      "encoder.layers.9.final_layer_norm.bias\n",
      "encoder.layers.10.self_attn.k_proj.weight\n",
      "encoder.layers.10.self_attn.k_proj.bias\n",
      "encoder.layers.10.self_attn.v_proj.weight\n",
      "encoder.layers.10.self_attn.v_proj.bias\n",
      "encoder.layers.10.self_attn.q_proj.weight\n",
      "encoder.layers.10.self_attn.q_proj.bias\n",
      "encoder.layers.10.self_attn.out_proj.weight\n",
      "encoder.layers.10.self_attn.out_proj.bias\n",
      "encoder.layers.10.self_attn_layer_norm.weight\n",
      "encoder.layers.10.self_attn_layer_norm.bias\n",
      "encoder.layers.10.fc1.weight\n",
      "encoder.layers.10.fc1.bias\n",
      "encoder.layers.10.fc2.weight\n",
      "encoder.layers.10.fc2.bias\n",
      "encoder.layers.10.final_layer_norm.weight\n",
      "encoder.layers.10.final_layer_norm.bias\n",
      "encoder.layers.11.self_attn.k_proj.weight\n",
      "encoder.layers.11.self_attn.k_proj.bias\n",
      "encoder.layers.11.self_attn.v_proj.weight\n",
      "encoder.layers.11.self_attn.v_proj.bias\n",
      "encoder.layers.11.self_attn.q_proj.weight\n",
      "encoder.layers.11.self_attn.q_proj.bias\n",
      "encoder.layers.11.self_attn.out_proj.weight\n",
      "encoder.layers.11.self_attn.out_proj.bias\n",
      "encoder.layers.11.self_attn_layer_norm.weight\n",
      "encoder.layers.11.self_attn_layer_norm.bias\n",
      "encoder.layers.11.fc1.weight\n",
      "encoder.layers.11.fc1.bias\n",
      "encoder.layers.11.fc2.weight\n",
      "encoder.layers.11.fc2.bias\n",
      "encoder.layers.11.final_layer_norm.weight\n",
      "encoder.layers.11.final_layer_norm.bias\n",
      "encoder.layer_norm.weight\n",
      "encoder.layer_norm.bias\n",
      "layer_norm.weight\n",
      "layer_norm.bias\n",
      "final_proj.weight\n",
      "final_proj.bias\n"
     ]
    }
   ],
   "source": [
    "tempfile= 'tmp.wav'\n",
    "sr = 16000\n",
    "feat_folder = 'w2vfeat_npy' \n",
    "cp_path = '/mnt/ssd/espnet/egs/low-resource-language/asr1-slavic/wav2vec_small.pt'\n",
    "model, cfg, task = fairseq.checkpoint_utils.load_model_ensemble_and_task([cp_path])\n",
    "model = model[0]\n",
    "model.eval()\n",
    "device = torch.device('cuda:0')\n",
    "model = model.to(device)\n",
    "\n",
    "for name, paras in model.named_parameters():\n",
    "    print(name)"
   ]
  },
  {
   "cell_type": "code",
   "execution_count": 10,
   "metadata": {},
   "outputs": [],
   "source": [
    "def line_count(filename):\n",
    "    return int(subprocess.check_output(['wc', '-l', filename]).split()[0])"
   ]
  },
  {
   "cell_type": "code",
   "execution_count": 11,
   "metadata": {},
   "outputs": [
    {
     "name": "stderr",
     "output_type": "stream",
     "text": [
      "100%|██████████| 724/724 [01:35<00:00,  7.55it/s]\n",
      "100%|██████████| 1260/1260 [02:38<00:00,  7.93it/s]\n",
      "100%|██████████| 830/830 [01:44<00:00,  7.91it/s]\n"
     ]
    }
   ],
   "source": [
    "\n",
    "for lang in all_langs:\n",
    "    data_dir = lang2data[lang]\n",
    "    nline = line_count(f'{data_dir}/wav.scp')\n",
    "    with open(f'{data_dir}/wav.scp', 'r') as f:\n",
    "        for l in tqdm(f, total=nline):\n",
    "            # BG051_UTT001 shorten -x /home/hertin/Workplace/SST/dataset/babel/S0319/Bulgarian/adc/051/BG051_1.adc.shn - | sox -t raw -r 16000 -b 16 -e signed-integer - -t wav - |\n",
    "            uttid, cmd = l.strip().strip('- |').split(' ', maxsplit=1)\n",
    "            cmd = f'{cmd} {tempfile}'\n",
    "            \n",
    "            process = subprocess.Popen(\n",
    "                cmd,\n",
    "                shell=True,\n",
    "                stdout=subprocess.PIPE, \n",
    "                stderr=subprocess.PIPE\n",
    "            )\n",
    "            stdout, stderr = process.communicate()\n",
    "            stdout, stderr\n",
    "            audio, _ = librosa.load(tempfile, sr=sr)\n",
    "    \n",
    "            wav_input = torch.from_numpy(audio).to(device).unsqueeze(0)\n",
    "\n",
    "            z = model.feature_extractor(wav_input)\n",
    "            feat = z.squeeze(0).detach().cpu().numpy().T\n",
    "            np.save(f'{feat_folder}/{uttid}.npy', feat)\n",
    "\n",
    "            assert uttid not in seen_utt\n",
    "            seen_utt.add(uttid)"
   ]
  },
  {
   "cell_type": "code",
   "execution_count": null,
   "metadata": {},
   "outputs": [],
   "source": []
  },
  {
   "cell_type": "code",
   "execution_count": null,
   "metadata": {},
   "outputs": [],
   "source": []
  },
  {
   "cell_type": "code",
   "execution_count": null,
   "metadata": {},
   "outputs": [],
   "source": []
  },
  {
   "cell_type": "code",
   "execution_count": null,
   "metadata": {},
   "outputs": [],
   "source": []
  },
  {
   "cell_type": "code",
   "execution_count": null,
   "metadata": {},
   "outputs": [],
   "source": []
  },
  {
   "cell_type": "code",
   "execution_count": null,
   "metadata": {},
   "outputs": [],
   "source": []
  },
  {
   "cell_type": "code",
   "execution_count": 49,
   "metadata": {},
   "outputs": [
    {
     "data": {
      "text/plain": [
       "'w2vfeat_npy/CZ009_UTT140.npy'"
      ]
     },
     "execution_count": 49,
     "metadata": {},
     "output_type": "execute_result"
    }
   ],
   "source": [
    "f'{feat_folder}/{uttid}.npy'"
   ]
  },
  {
   "cell_type": "code",
   "execution_count": 52,
   "metadata": {},
   "outputs": [
    {
     "data": {
      "text/plain": [
       "(512, 649)"
      ]
     },
     "execution_count": 52,
     "metadata": {},
     "output_type": "execute_result"
    }
   ],
   "source": [
    "np.load(f'{feat_folder}/{uttid}.npy', mmap_mode='r').shape[1:]"
   ]
  },
  {
   "cell_type": "code",
   "execution_count": 58,
   "metadata": {},
   "outputs": [
    {
     "data": {
      "text/plain": [
       "torch.Size([649, 512])"
      ]
     },
     "execution_count": 58,
     "metadata": {},
     "output_type": "execute_result"
    }
   ],
   "source": [
    "z.squeeze(0).T.shape"
   ]
  },
  {
   "cell_type": "code",
   "execution_count": 56,
   "metadata": {},
   "outputs": [
    {
     "data": {
      "text/plain": [
       "torch.Size([512, 649])"
      ]
     },
     "execution_count": 56,
     "metadata": {},
     "output_type": "execute_result"
    }
   ],
   "source": [
    "z.squeeze(0).shape\n"
   ]
  },
  {
   "cell_type": "code",
   "execution_count": 23,
   "metadata": {},
   "outputs": [
    {
     "name": "stdout",
     "output_type": "stream",
     "text": [
      "cost 0.011581659317016602 s\n"
     ]
    }
   ],
   "source": [
    "cp_path = '/home/hertin/Workplace/SST/low-resource/fairseq/examples/wav2vec/scripts/xlsr_53_56k.pt'\n",
    "model, cfg, task = fairseq.checkpoint_utils.load_model_ensemble_and_task([cp_path])\n",
    "model = model[0]\n",
    "model.eval()\n",
    "device = torch.device('cuda:0')\n",
    "model = model.to(device)\n",
    "# wav_input_16khz = torch.randn(2,10000)\n",
    "start = time.time()\n",
    "wav_input = torch.from_numpy(audio).to(device).unsqueeze(0)\n",
    "\n",
    "z = model.feature_extractor(wav_input)\n",
    "feat = z.detach().cpu().numpy()\n",
    "end = time.time()\n",
    "print(f'cost {end-start} s')\n",
    "# c = model.feature_aggregator(z)"
   ]
  },
  {
   "cell_type": "code",
   "execution_count": 24,
   "metadata": {},
   "outputs": [
    {
     "name": "stdout",
     "output_type": "stream",
     "text": [
      "cost 0.9544930458068848 s\n"
     ]
    }
   ],
   "source": [
    "cp_path = '/home/hertin/Workplace/SST/low-resource/fairseq/examples/wav2vec/scripts/xlsr_53_56k.pt'\n",
    "model, cfg, task = fairseq.checkpoint_utils.load_model_ensemble_and_task([cp_path])\n",
    "model = model[0]\n",
    "model.eval()\n",
    "\n",
    "# wav_input_16khz = torch.randn(2,10000)\n",
    "start = time.time()\n",
    "wav_input = torch.from_numpy(audio).unsqueeze(0)\n",
    "\n",
    "z = model.feature_extractor(wav_input)\n",
    "end = time.time()\n",
    "print(f'cost {end-start} s')\n",
    "# c = model.feature_aggregator(z)"
   ]
  },
  {
   "cell_type": "code",
   "execution_count": 48,
   "metadata": {},
   "outputs": [
    {
     "data": {
      "text/plain": [
       "torch.Size([1, 512, 649])"
      ]
     },
     "execution_count": 48,
     "metadata": {},
     "output_type": "execute_result"
    }
   ],
   "source": [
    "z.size()"
   ]
  },
  {
   "cell_type": "code",
   "execution_count": null,
   "metadata": {},
   "outputs": [],
   "source": []
  },
  {
   "cell_type": "code",
   "execution_count": null,
   "metadata": {},
   "outputs": [],
   "source": []
  },
  {
   "cell_type": "code",
   "execution_count": null,
   "metadata": {},
   "outputs": [],
   "source": []
  },
  {
   "cell_type": "code",
   "execution_count": null,
   "metadata": {},
   "outputs": [],
   "source": []
  },
  {
   "cell_type": "code",
   "execution_count": null,
   "metadata": {},
   "outputs": [],
   "source": []
  }
 ],
 "metadata": {
  "kernelspec": {
   "display_name": "Python 3",
   "language": "python",
   "name": "python3"
  },
  "language_info": {
   "codemirror_mode": {
    "name": "ipython",
    "version": 3
   },
   "file_extension": ".py",
   "mimetype": "text/x-python",
   "name": "python",
   "nbconvert_exporter": "python",
   "pygments_lexer": "ipython3",
   "version": "3.7.9"
  }
 },
 "nbformat": 4,
 "nbformat_minor": 5
}
